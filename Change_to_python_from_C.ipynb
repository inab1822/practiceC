{
  "nbformat": 4,
  "nbformat_minor": 0,
  "metadata": {
    "colab": {
      "provenance": []
    },
    "kernelspec": {
      "name": "python3",
      "display_name": "Python 3"
    },
    "language_info": {
      "name": "python"
    }
  },
  "cells": [
    {
      "cell_type": "markdown",
      "source": [
        "# 인프런 강의를 들으면서 만든 c언어 프로그램 python으로 만들어 보았습니다.\n",
        "- C언어로 만든 `array_project.c` 코드를 파이썬으로 만들어 보았습니다.\n",
        "  - 훨씬 짧게 만들 수 있었다."
      ],
      "metadata": {
        "id": "keBvubQz9BhW"
      }
    },
    {
      "cell_type": "code",
      "execution_count": 1,
      "metadata": {
        "id": "TZFX7NAKpKPH"
      },
      "outputs": [],
      "source": [
        "# 기회 3번\n",
        "# 총 병 갯수 4개\n",
        "# 라운드마다 보여줄 병 갯수 2 또는 3개"
      ]
    },
    {
      "cell_type": "code",
      "source": [
        "import random\n",
        "\n",
        "bottle = [0,0,0,0]\n",
        "treat = random.randrange(0,4)\n",
        "bottle[treat] = 1\n",
        "print(treat)\n",
        "print(bottle)\n",
        "\n",
        "count = 0\n",
        "while(count <4 ):\n",
        "  cntShowBottle = random.randrange(2,4)\n",
        "  if prevCntShowbottle != cntShowBottle:\n",
        "    count += 1\n",
        "    showBottle = []\n",
        "    while(len(showBottle) != cntShowBottle):\n",
        "      chooseBottle = random.randrange(1,5)\n",
        "      if chooseBottle not in showBottle:\n",
        "        showBottle.append(chooseBottle)\n",
        "\n",
        "    print(f'{sorted(showBottle)}번째 병을 사용하였습니다.')\n",
        "    if treat + 1 in showBottle:\n",
        "      print(\"머리가 자랐습니다.\\n\")\n",
        "    else:\n",
        "      print(\"머리가 자라지 않았습니다.\\n\")\n",
        "\n",
        "  else:\n",
        "    continue\n",
        "  prevCntShowbottle = cntShowBottle\n",
        "\n",
        "question = int(input(\"몇번째 병이 발모제 입니까? : \"))\n",
        "if treat+1 == question:\n",
        "  print(\"정답입니다.\")\n",
        "else:\n",
        "  print(\"틀렸습니다.\")"
      ],
      "metadata": {
        "colab": {
          "base_uri": "https://localhost:8080/"
        },
        "id": "8MxAD4KBriQj",
        "outputId": "9b9f59b5-6487-49ae-b763-fd9335faadbb"
      },
      "execution_count": 175,
      "outputs": [
        {
          "output_type": "stream",
          "name": "stdout",
          "text": [
            "0\n",
            "[1, 0, 0, 0]\n",
            "[2, 3]번째 병을 사용하였습니다.\n",
            "머리가 자라지 않았습니다.\n",
            "\n",
            "[2, 3, 4]번째 병을 사용하였습니다.\n",
            "머리가 자라지 않았습니다.\n",
            "\n",
            "[1, 4]번째 병을 사용하였습니다.\n",
            "머리가 자랐습니다.\n",
            "\n",
            "[1, 3, 4]번째 병을 사용하였습니다.\n",
            "머리가 자랐습니다.\n",
            "\n",
            "몇번째 병이 발모제 입니까? : 3\n",
            "틀렸습니다.\n"
          ]
        }
      ]
    },
    {
      "cell_type": "code",
      "source": [],
      "metadata": {
        "id": "eQ3_9ZIFwSmT"
      },
      "execution_count": null,
      "outputs": []
    }
  ]
}